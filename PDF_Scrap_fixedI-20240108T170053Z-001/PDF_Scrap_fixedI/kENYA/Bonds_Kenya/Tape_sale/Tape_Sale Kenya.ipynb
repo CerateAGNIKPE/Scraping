{
 "cells": [
  {
   "cell_type": "code",
   "execution_count": 1,
   "id": "54e88995",
   "metadata": {},
   "outputs": [],
   "source": [
    "from tabula.io import read_pdf\n",
    "import pandas as pd\n",
    "import tabula\n",
    "from tabulate import tabulate"
   ]
  },
  {
   "cell_type": "code",
   "execution_count": 11,
   "id": "9e968d01",
   "metadata": {},
   "outputs": [],
   "source": [
    "df = tabula.io.read_pdf('579857472_TAPSALE RESULTS FOR  TREASURY BOND ISSUE NOs. FXD1-2016-10 AND FXD1-2023-05 DATED 24-07-2023.pdf', pages = 'all', encoding ='utf-8')\n",
    "df = df[0]"
   ]
  },
  {
   "cell_type": "code",
   "execution_count": 12,
   "id": "de6dd8ac",
   "metadata": {},
   "outputs": [],
   "source": [
    "df = df.drop([0])"
   ]
  },
  {
   "cell_type": "code",
   "execution_count": 14,
   "id": "3a47c62d",
   "metadata": {},
   "outputs": [],
   "source": [
    "df.set_index(\"Tenor\", inplace=True)"
   ]
  },
  {
   "cell_type": "code",
   "execution_count": 15,
   "id": "3edfed10",
   "metadata": {},
   "outputs": [],
   "source": [
    "df1 = df.T"
   ]
  },
  {
   "cell_type": "code",
   "execution_count": 18,
   "id": "72bd8068",
   "metadata": {},
   "outputs": [],
   "source": [
    "df1 = df1.drop(df1.index[-1])"
   ]
  },
  {
   "cell_type": "code",
   "execution_count": 22,
   "id": "d3d5adf8",
   "metadata": {},
   "outputs": [],
   "source": [
    "# Créez une fonction pour nettoyer les valeurs numériques\n",
    "def remove_commas(value):\n",
    "    if isinstance(value, str):\n",
    "        # Supprimez les virgules et les espaces, puis remplacez les virgules par des points\n",
    "        return float(value.replace(',', '').replace(' ', '').replace(',', '.'))\n",
    "    else:\n",
    "        return value\n",
    "\n",
    "# Appliquez la fonction aux colonnes numériques\n",
    "columns_to_clean = ['Total Bids Received at Face value (Kes Million)','Total Bids Accepted at Cost (Kes Million)']\n",
    "\n",
    "for column in columns_to_clean:\n",
    "    df1[column] = df1[column].apply(remove_commas)"
   ]
  },
  {
   "cell_type": "code",
   "execution_count": 24,
   "id": "87510689",
   "metadata": {},
   "outputs": [],
   "source": [
    "columns_to_convert = ['Allocated average rate for accepted bids (%)','Adjusted Average Price (Per Kes 100.00)','Coupon Rate (%)']\n",
    "\n",
    "for column in columns_to_convert:\n",
    "    df1[column] = df1[column].astype(float)"
   ]
  },
  {
   "cell_type": "code",
   "execution_count": 25,
   "id": "7db6d6d3",
   "metadata": {},
   "outputs": [
    {
     "data": {
      "text/html": [
       "<div>\n",
       "<style scoped>\n",
       "    .dataframe tbody tr th:only-of-type {\n",
       "        vertical-align: middle;\n",
       "    }\n",
       "\n",
       "    .dataframe tbody tr th {\n",
       "        vertical-align: top;\n",
       "    }\n",
       "\n",
       "    .dataframe thead th {\n",
       "        text-align: right;\n",
       "    }\n",
       "</style>\n",
       "<table border=\"1\" class=\"dataframe\">\n",
       "  <thead>\n",
       "    <tr style=\"text-align: right;\">\n",
       "      <th>Tenor</th>\n",
       "      <th>Total Bids Received at Face value (Kes Million)</th>\n",
       "      <th>Total Bids Accepted at Cost (Kes Million)</th>\n",
       "      <th>Allocated average rate for accepted bids (%)</th>\n",
       "      <th>Adjusted Average Price (Per Kes 100.00)</th>\n",
       "      <th>Coupon Rate (%)</th>\n",
       "    </tr>\n",
       "  </thead>\n",
       "  <tbody>\n",
       "    <tr>\n",
       "      <th>FXD1/2016/010</th>\n",
       "      <td>32216.95</td>\n",
       "      <td>31230.14</td>\n",
       "      <td>16.328</td>\n",
       "      <td>103.300</td>\n",
       "      <td>15.039</td>\n",
       "    </tr>\n",
       "    <tr>\n",
       "      <th>FXD1/2023/005</th>\n",
       "      <td>12212.15</td>\n",
       "      <td>12210.68</td>\n",
       "      <td>16.844</td>\n",
       "      <td>100.311</td>\n",
       "      <td>16.844</td>\n",
       "    </tr>\n",
       "  </tbody>\n",
       "</table>\n",
       "</div>"
      ],
      "text/plain": [
       "Tenor          Total Bids Received at Face value (Kes Million)  \\\n",
       "FXD1/2016/010                                         32216.95   \n",
       "FXD1/2023/005                                         12212.15   \n",
       "\n",
       "Tenor          Total Bids Accepted at Cost (Kes Million)  \\\n",
       "FXD1/2016/010                                   31230.14   \n",
       "FXD1/2023/005                                   12210.68   \n",
       "\n",
       "Tenor          Allocated average rate for accepted bids (%)  \\\n",
       "FXD1/2016/010                                        16.328   \n",
       "FXD1/2023/005                                        16.844   \n",
       "\n",
       "Tenor          Adjusted Average Price (Per Kes 100.00)  Coupon Rate (%)  \n",
       "FXD1/2016/010                                  103.300           15.039  \n",
       "FXD1/2023/005                                  100.311           16.844  "
      ]
     },
     "execution_count": 25,
     "metadata": {},
     "output_type": "execute_result"
    }
   ],
   "source": [
    "df1"
   ]
  },
  {
   "cell_type": "code",
   "execution_count": 26,
   "id": "75f61ee9",
   "metadata": {},
   "outputs": [],
   "source": [
    "# Spécifiez le nom du fichier Excel de destination\n",
    "nom_fichier_excel = 'Tapesale_kenya_scrap.xlsx'\n",
    "\n",
    "# Exportez le DataFrame vers Excel\n",
    "df1.to_excel(nom_fichier_excel, index=True)"
   ]
  }
 ],
 "metadata": {
  "kernelspec": {
   "display_name": "Python 3 (ipykernel)",
   "language": "python",
   "name": "python3"
  },
  "language_info": {
   "codemirror_mode": {
    "name": "ipython",
    "version": 3
   },
   "file_extension": ".py",
   "mimetype": "text/x-python",
   "name": "python",
   "nbconvert_exporter": "python",
   "pygments_lexer": "ipython3",
   "version": "3.10.9"
  }
 },
 "nbformat": 4,
 "nbformat_minor": 5
}
