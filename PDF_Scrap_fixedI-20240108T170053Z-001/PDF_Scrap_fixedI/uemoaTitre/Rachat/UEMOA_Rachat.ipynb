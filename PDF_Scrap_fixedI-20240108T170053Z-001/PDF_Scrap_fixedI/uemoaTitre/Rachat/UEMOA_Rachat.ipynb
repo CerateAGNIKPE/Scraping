{
 "cells": [
  {
   "cell_type": "code",
   "execution_count": 1,
   "id": "af5ba2ff",
   "metadata": {},
   "outputs": [],
   "source": [
    "import pdftables_api"
   ]
  },
  {
   "cell_type": "code",
   "execution_count": 2,
   "id": "d2c496d0",
   "metadata": {},
   "outputs": [],
   "source": [
    "c = pdftables_api.Client('tdcthtpa2b3z', timeout=(60, 3600))\n",
    "c.xlsx('Compte-Rendu-CI-ES-RS-04.10.2023 (1).pdf', 'UEMOA_Ra.xlsx')"
   ]
  }
 ],
 "metadata": {
  "kernelspec": {
   "display_name": "Python 3 (ipykernel)",
   "language": "python",
   "name": "python3"
  },
  "language_info": {
   "codemirror_mode": {
    "name": "ipython",
    "version": 3
   },
   "file_extension": ".py",
   "mimetype": "text/x-python",
   "name": "python",
   "nbconvert_exporter": "python",
   "pygments_lexer": "ipython3",
   "version": "3.10.9"
  }
 },
 "nbformat": 4,
 "nbformat_minor": 5
}
