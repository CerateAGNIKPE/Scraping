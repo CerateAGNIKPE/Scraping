{
 "cells": [
  {
   "cell_type": "code",
   "execution_count": 19,
   "id": "26d1679e",
   "metadata": {},
   "outputs": [],
   "source": [
    "import pdftables_api"
   ]
  },
  {
   "cell_type": "code",
   "execution_count": 20,
   "id": "8ec311bc",
   "metadata": {},
   "outputs": [],
   "source": [
    "c = pdftables_api.Client('tdcthtpa2b3z', timeout=(60, 3600))\n",
    "c.xlsx('Compte-Rendu-CI-ES-16.10.2023.pdf', 'UEMOA.xlsx')"
   ]
  }
 ],
 "metadata": {
  "kernelspec": {
   "display_name": "Python 3 (ipykernel)",
   "language": "python",
   "name": "python3"
  },
  "language_info": {
   "codemirror_mode": {
    "name": "ipython",
    "version": 3
   },
   "file_extension": ".py",
   "mimetype": "text/x-python",
   "name": "python",
   "nbconvert_exporter": "python",
   "pygments_lexer": "ipython3",
   "version": "3.10.9"
  }
 },
 "nbformat": 4,
 "nbformat_minor": 5
}
