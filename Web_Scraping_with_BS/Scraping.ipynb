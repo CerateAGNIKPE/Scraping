{
 "cells": [
  {
   "cell_type": "code",
   "execution_count": null,
   "id": "34b4e08f",
   "metadata": {},
   "outputs": [],
   "source": [
    "from bs4 import BeautifulSoup\n",
    "import requests\n",
    "\n",
    "url = \"https://books.toscrape.com/catalogue/category/books/fantasy_19/index.html\"\n",
    "html_body = requests.get(url).text\n",
    "soup = BeautifulSoup(html_body, 'html.parser')\n",
    "\n",
    "book_html_list = soup.find_all(\"article\", class_=\"product_pod\")\n",
    "print(len(book_html_list))\n",
    "print(book_html_list[0])\n",
    "\n",
    "def extract_book_info(bool_html):\n",
    "    title = book_html.find(\"h3\").text\n",
    "    image = book_html.find(\"img\").get(\"src\")\n",
    "    price = book_html.find(\"p\", class =\"price_color\")\n",
    "    link = book_html.find(\"a\").get(\"href\")\n",
    "    note = book_html.find(\"p\", class =\"star-rating\").get(\"class\")[-1]\n",
    "    return \n",
    "    https://www.crummy.com/software/BeautifulSoup/bs4/doc/"
   ]
  }
 ],
 "metadata": {
  "kernelspec": {
   "display_name": "Python 3 (ipykernel)",
   "language": "python",
   "name": "python3"
  },
  "language_info": {
   "codemirror_mode": {
    "name": "ipython",
    "version": 3
   },
   "file_extension": ".py",
   "mimetype": "text/x-python",
   "name": "python",
   "nbconvert_exporter": "python",
   "pygments_lexer": "ipython3",
   "version": "3.9.13"
  }
 },
 "nbformat": 4,
 "nbformat_minor": 5
}
